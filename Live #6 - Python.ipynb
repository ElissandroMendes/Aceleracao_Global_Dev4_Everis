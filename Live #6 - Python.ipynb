{
  "nbformat": 4,
  "nbformat_minor": 0,
  "metadata": {
    "colab": {
      "name": "Live #6 - Python.ipynb",
      "provenance": [],
      "authorship_tag": "ABX9TyPNk2nnul8jb9rCqLC5pB2T",
      "include_colab_link": true
    },
    "kernelspec": {
      "name": "python3",
      "display_name": "Python 3"
    }
  },
  "cells": [
    {
      "cell_type": "markdown",
      "metadata": {
        "id": "view-in-github",
        "colab_type": "text"
      },
      "source": [
        "<a href=\"https://colab.research.google.com/github/felipedoamarals/Aceleracao_Global_Dev4_Everis/blob/master/Live%20%236%20-%20Python.ipynb\" target=\"_parent\"><img src=\"https://colab.research.google.com/assets/colab-badge.svg\" alt=\"Open In Colab\"/></a>"
      ]
    },
    {
      "cell_type": "markdown",
      "metadata": {
        "id": "0OIkT9P0wd8r"
      },
      "source": [
        "# Live #6 - Intensivo de Python: O mínimo que você precisa saber\n",
        "\n",
        "Profº [**Hugo de Oliveira Alves**\n",
        "](https://www.linkedin.com/in/huguinho/) <br>\n",
        "\n",
        "### 1 - Python"
      ]
    },
    {
      "cell_type": "code",
      "metadata": {
        "colab": {
          "base_uri": "https://localhost:8080/"
        },
        "id": "SQy2-1_XwXrb",
        "outputId": "cffa5cff-dbb3-413e-bd59-fe232573128d"
      },
      "source": [
        "#Definindo uma função que imprime\n",
        "def helloWorld():\n",
        "  name = 'Aceleração Gloval #4 - Everis' #Atribuindo valor\n",
        "  print( name )\n",
        "\n",
        "helloWorld() #Chamando função"
      ],
      "execution_count": 1,
      "outputs": [
        {
          "output_type": "stream",
          "text": [
            "Aceleração Gloval #4 - Everis\n"
          ],
          "name": "stdout"
        }
      ]
    },
    {
      "cell_type": "code",
      "metadata": {
        "colab": {
          "base_uri": "https://localhost:8080/"
        },
        "id": "mv1ttPVY6SyM",
        "outputId": "64745c02-eb2a-4514-8369-d9a154f1c1a4"
      },
      "source": [
        "#Exemplo If e Else\n",
        "def calcBalada( age ):\n",
        "  \n",
        "  if( age >= 18 ):\n",
        "    print('Beleza, pode entrar na balada');\n",
        "  else:\n",
        "    print('Vaza, volta aqui mais tarde !');\n",
        "\n",
        "calcBalada( 28 )"
      ],
      "execution_count": 2,
      "outputs": [
        {
          "output_type": "stream",
          "text": [
            "Beleza, pode entrar na balada\n"
          ],
          "name": "stdout"
        }
      ]
    },
    {
      "cell_type": "code",
      "metadata": {
        "colab": {
          "base_uri": "https://localhost:8080/"
        },
        "id": "_GVP8MiI65Nx",
        "outputId": "bca36482-11db-4c98-de01-081bb8b34d6a"
      },
      "source": [
        "#Exemplo for\n",
        "def forExample():\n",
        "  \n",
        "  # Definindo o array\n",
        "  names = ['Huguinho', 'John', 'John 2'];\n",
        "\n",
        "  for name in names:\n",
        "    print( ' Aceleração global - ' + name )\n",
        "\n",
        "# Invocando a função\n",
        "forExample()"
      ],
      "execution_count": 3,
      "outputs": [
        {
          "output_type": "stream",
          "text": [
            " Aceleração global - Huguinho\n",
            " Aceleração global - John\n",
            " Aceleração global - John 2\n"
          ],
          "name": "stdout"
        }
      ]
    },
    {
      "cell_type": "code",
      "metadata": {
        "colab": {
          "base_uri": "https://localhost:8080/"
        },
        "id": "tiEQ5e3j7WEv",
        "outputId": "f1f591f9-b96f-4808-a929-aeb8bd835791"
      },
      "source": [
        "#Exemplo Map\n",
        "def mapExample():\n",
        "\n",
        "  person1 = {\n",
        "      'name' : 'Huguinho',\n",
        "      'title' : 'Expert IT Techonology'\n",
        "  };\n",
        "\n",
        "  for key in person1:\n",
        "    print('key', key, ' | value', person1[ key ] )\n",
        "\n",
        "mapExample()"
      ],
      "execution_count": 4,
      "outputs": [
        {
          "output_type": "stream",
          "text": [
            "key name  | value Huguinho\n",
            "key title  | value Expert IT Techonology\n"
          ],
          "name": "stdout"
        }
      ]
    },
    {
      "cell_type": "code",
      "metadata": {
        "colab": {
          "base_uri": "https://localhost:8080/"
        },
        "id": "hggla5cc746L",
        "outputId": "db958b05-eb49-4c77-e893-3b3e35a461d6"
      },
      "source": [
        "#For com Map\n",
        "def forWithMap():\n",
        "\n",
        "  person1 = {\n",
        "      'name' : 'Huguinho',\n",
        "      'title' : 'Expert IT Techonology'\n",
        "  };\n",
        "\n",
        "  person2 = {\n",
        "      'name' : 'User 2',\n",
        "      'title' : 'Student from everis Aceleration'\n",
        "  };\n",
        "\n",
        "  lista = [];\n",
        "  lista.append( person1 );\n",
        "  lista.append( person2 );\n",
        "\n",
        "  print('tamanho do array', len( lista ) );\n",
        "\n",
        "  for obj in lista:\n",
        "    print('Nome: ', obj['name'], ' | title: ', obj['title'] );\n",
        "\n",
        "forWithMap();"
      ],
      "execution_count": 5,
      "outputs": [
        {
          "output_type": "stream",
          "text": [
            "tamanho do array 2\n",
            "Nome:  Huguinho  | title:  Expert IT Techonology\n",
            "Nome:  User 2  | title:  Student from everis Aceleration\n"
          ],
          "name": "stdout"
        }
      ]
    }
  ]
}