{
  "nbformat": 4,
  "nbformat_minor": 0,
  "metadata": {
    "colab": {
      "name": "Live #6 - Pandas.ipynb",
      "provenance": [],
      "authorship_tag": "ABX9TyNl1Fj/NHGet0/aZ0w8Dh/k",
      "include_colab_link": true
    },
    "kernelspec": {
      "name": "python3",
      "display_name": "Python 3"
    }
  },
  "cells": [
    {
      "cell_type": "markdown",
      "metadata": {
        "id": "view-in-github",
        "colab_type": "text"
      },
      "source": [
        "<a href=\"https://colab.research.google.com/github/felipedoamarals/Aceleracao_Global_Dev4_Everis/blob/master/Live%20%236%20-%20Pandas.ipynb\" target=\"_parent\"><img src=\"https://colab.research.google.com/assets/colab-badge.svg\" alt=\"Open In Colab\"/></a>"
      ]
    },
    {
      "cell_type": "markdown",
      "metadata": {
        "id": "0BTowLtF-MZw"
      },
      "source": [
        "# Live #6 - Intensivo de Python: O mínimo que você precisa saber\n",
        "\n",
        "Profº [**Hugo de Oliveira Alves**\n",
        "](https://www.linkedin.com/in/huguinho/) <br>\n",
        "\n",
        "### 1 - Pandas"
      ]
    },
    {
      "cell_type": "code",
      "metadata": {
        "colab": {
          "base_uri": "https://localhost:8080/"
        },
        "id": "otriFxpo98Nl",
        "outputId": "f1bc19ed-7cc0-4416-c84e-b76b8a50494a"
      },
      "source": [
        "#Importando biblioteca pandas\n",
        "import pandas as pd\n",
        "\n",
        "#Criando um DataFrame\n",
        "def createDataframe():\n",
        "\n",
        "  map = {\n",
        "      \"name\" : [\"Huguinho\", \"Student 1\", \"Student 2\"],\n",
        "      \"age\" : [ 28, 18, 32 ],\n",
        "      \"location\" : [\"Santos\", \"São Paulo\", \"Rio de Janeiro\"]\n",
        "  }\n",
        "\n",
        "  df = pd.DataFrame( map );\n",
        "\n",
        "  print( df );\n",
        "\n",
        "createDataframe()"
      ],
      "execution_count": 1,
      "outputs": [
        {
          "output_type": "stream",
          "text": [
            "        name  age        location\n",
            "0   Huguinho   28          Santos\n",
            "1  Student 1   18       São Paulo\n",
            "2  Student 2   32  Rio de Janeiro\n"
          ],
          "name": "stdout"
        }
      ]
    },
    {
      "cell_type": "code",
      "metadata": {
        "colab": {
          "base_uri": "https://localhost:8080/"
        },
        "id": "gO108XLp-cAo",
        "outputId": "c57e1038-5640-45ef-e18c-992396ad5589"
      },
      "source": [
        "def iterateDataframe():\n",
        "\n",
        "  map = {\n",
        "      \"name\" : [\"Huguinho\", \"Student 1\", \"Student 2\"],\n",
        "      \"age\" : [ 28, 18, 32 ],\n",
        "      \"location\" : [\"Santos\", \"São Paulo\", \"Rio de Janeiro\"]\n",
        "  }\n",
        "\n",
        "  df = pd.DataFrame( map );\n",
        "\n",
        "  # não indicado para alto volume de dados ( somente para conhecimento )\n",
        "  for index in df.index:\n",
        "    print(\"item\", df[\"name\"][ index ], \" | index\", index  );\n",
        "\n",
        "iterateDataframe()"
      ],
      "execution_count": 2,
      "outputs": [
        {
          "output_type": "stream",
          "text": [
            "item Huguinho  | index 0\n",
            "item Student 1  | index 1\n",
            "item Student 2  | index 2\n"
          ],
          "name": "stdout"
        }
      ]
    },
    {
      "cell_type": "code",
      "metadata": {
        "colab": {
          "base_uri": "https://localhost:8080/"
        },
        "id": "YPwhio_0-eFb",
        "outputId": "72a7fa79-db07-481c-d2aa-fca57a6840c7"
      },
      "source": [
        "def addColumnDataframe():\n",
        "\n",
        "  map = {\n",
        "      \"name\" : [\"Huguinho\", \"Student 1\", \"Student 2\"],\n",
        "      \"age\" : [ 28, 18, 32 ],\n",
        "      \"location\" : [\"Santos\", \"São Paulo\", \"Rio de Janeiro\"]\n",
        "  }\n",
        "\n",
        "  df = pd.DataFrame( map );\n",
        "\n",
        "  # adicionando uma nova coluna\n",
        "  address = ['Rua de teste 1', 'Rua de teste 2', 'Rua de teste 3'];\n",
        "\n",
        "  df['address'] = address;\n",
        "\n",
        "  print( df )\n",
        "\n",
        "addColumnDataframe()"
      ],
      "execution_count": 3,
      "outputs": [
        {
          "output_type": "stream",
          "text": [
            "        name  age        location         address\n",
            "0   Huguinho   28          Santos  Rua de teste 1\n",
            "1  Student 1   18       São Paulo  Rua de teste 2\n",
            "2  Student 2   32  Rio de Janeiro  Rua de teste 3\n"
          ],
          "name": "stdout"
        }
      ]
    },
    {
      "cell_type": "code",
      "metadata": {
        "colab": {
          "base_uri": "https://localhost:8080/"
        },
        "id": "8bli1DU5-g0h",
        "outputId": "5f979408-dde9-4c61-da58-8652bbf722de"
      },
      "source": [
        "def removeColumnDataframe():\n",
        "\n",
        "  map = {\n",
        "      \"name\" : [\"Huguinho\", \"Student 1\", \"Student 2\"],\n",
        "      \"age\" : [ 28, 18, 32 ],\n",
        "      \"location\" : [\"Santos\", \"São Paulo\", \"Rio de Janeiro\"]\n",
        "  }\n",
        "\n",
        "  df = pd.DataFrame( map );\n",
        "\n",
        "  # Removendo a linha pelo índice\n",
        "  df = df.drop(1)\n",
        "\n",
        "  print( df )\n",
        "\n",
        "  print(\"---------------------------\")\n",
        "\n",
        "  # Removendo a coluna\n",
        "  df = df.drop( columns=[\"age\"] );\n",
        "\n",
        "  print ( df );\n",
        "\n",
        "removeColumnDataframe()"
      ],
      "execution_count": 4,
      "outputs": [
        {
          "output_type": "stream",
          "text": [
            "        name  age        location\n",
            "0   Huguinho   28          Santos\n",
            "2  Student 2   32  Rio de Janeiro\n",
            "---------------------------\n",
            "        name        location\n",
            "0   Huguinho          Santos\n",
            "2  Student 2  Rio de Janeiro\n"
          ],
          "name": "stdout"
        }
      ]
    },
    {
      "cell_type": "code",
      "metadata": {
        "colab": {
          "base_uri": "https://localhost:8080/"
        },
        "id": "jX61uTiC-j5F",
        "outputId": "b842fd96-6011-4d53-81b6-988abce442b5"
      },
      "source": [
        "def filterDataframe():\n",
        "\n",
        "  map = {\n",
        "      \"name\" : [\"Huguinho\", \"Student 1\", \"Student 2\", \"Student 3\", \"Student 4\"],\n",
        "      \"age\" : [ 28, 18, 32, 17, 14 ],\n",
        "      \"location\" : [\"Santos\", \"São Paulo\", \"Rio de Janeiro\", \"São Paulo\", \"São Paulo\"]\n",
        "  }\n",
        "\n",
        "  df = pd.DataFrame( map );\n",
        "\n",
        "  # criando o filtro\n",
        "  filter = df[\"age\"] >= 18;\n",
        "\n",
        "  # Filtrando a lista\n",
        "  filteredList = df[ filter ];\n",
        "\n",
        "  print ( df );\n",
        "  print(\"----------------------\");\n",
        "  print( filteredList )\n",
        "\n",
        "filterDataframe()"
      ],
      "execution_count": 5,
      "outputs": [
        {
          "output_type": "stream",
          "text": [
            "        name  age        location\n",
            "0   Huguinho   28          Santos\n",
            "1  Student 1   18       São Paulo\n",
            "2  Student 2   32  Rio de Janeiro\n",
            "3  Student 3   17       São Paulo\n",
            "4  Student 4   14       São Paulo\n",
            "----------------------\n",
            "        name  age        location\n",
            "0   Huguinho   28          Santos\n",
            "1  Student 1   18       São Paulo\n",
            "2  Student 2   32  Rio de Janeiro\n"
          ],
          "name": "stdout"
        }
      ]
    },
    {
      "cell_type": "code",
      "metadata": {
        "colab": {
          "base_uri": "https://localhost:8080/"
        },
        "id": "J8wc67qr-mZN",
        "outputId": "f0584f0a-439b-48e6-bbab-f04e82ac1998"
      },
      "source": [
        "def stringDataframe():\n",
        "\n",
        "  map = {\n",
        "      \"name\" : [\"Huguinho\", \"Student 1\", \"Student 2\", \"Student 3\", \"Student 4\"],\n",
        "      \"age\" : [ 28, 18, 32, 17, 14 ],\n",
        "      \"location\" : [\"santos\", \"são Paulo\", \"rio de Janeiro\", \"são Paulo\", \"São Paulo\"]\n",
        "  }\n",
        "\n",
        "  df = pd.DataFrame( map );\n",
        "\n",
        "\n",
        "  print(\"original dataframe\")\n",
        "  print ( df );\n",
        "  print(\"-------------------------------------------\");\n",
        "\n",
        "  # maiúscula\n",
        "  print()\n",
        "  print(\"Upper case\")\n",
        "  print( df[\"location\"].str.upper() )\n",
        "  print(\"--------------------------------------------\");\n",
        "\n",
        "  print()\n",
        "  print(\"Upper in dataframe\")\n",
        "  df[\"location\"] = df[\"location\"].str.upper()\n",
        "  print( df );\n",
        "  print(\"------------------------------------------\");\n",
        "\n",
        "  # Somente a primeira maiuscula\n",
        "  print()\n",
        "  print(\"Capitalize\")\n",
        "  df[\"location\"] = df[\"location\"].str.capitalize()\n",
        "  print( df );\n",
        "  print(\"------------------------------------------\");\n",
        "\n",
        "  # Somente a primeira de cada palavra\n",
        "  print()\n",
        "  print(\"Title\")\n",
        "  df[\"location\"] = df[\"location\"].str.title()\n",
        "  print( df );\n",
        "  print(\"------------------------------------------\");\n",
        "\n",
        "stringDataframe()"
      ],
      "execution_count": 6,
      "outputs": [
        {
          "output_type": "stream",
          "text": [
            "original dataframe\n",
            "        name  age        location\n",
            "0   Huguinho   28          santos\n",
            "1  Student 1   18       são Paulo\n",
            "2  Student 2   32  rio de Janeiro\n",
            "3  Student 3   17       são Paulo\n",
            "4  Student 4   14       São Paulo\n",
            "-------------------------------------------\n",
            "\n",
            "Upper case\n",
            "0            SANTOS\n",
            "1         SÃO PAULO\n",
            "2    RIO DE JANEIRO\n",
            "3         SÃO PAULO\n",
            "4         SÃO PAULO\n",
            "Name: location, dtype: object\n",
            "--------------------------------------------\n",
            "\n",
            "Upper in dataframe\n",
            "        name  age        location\n",
            "0   Huguinho   28          SANTOS\n",
            "1  Student 1   18       SÃO PAULO\n",
            "2  Student 2   32  RIO DE JANEIRO\n",
            "3  Student 3   17       SÃO PAULO\n",
            "4  Student 4   14       SÃO PAULO\n",
            "------------------------------------------\n",
            "\n",
            "Capitalize\n",
            "        name  age        location\n",
            "0   Huguinho   28          Santos\n",
            "1  Student 1   18       São paulo\n",
            "2  Student 2   32  Rio de janeiro\n",
            "3  Student 3   17       São paulo\n",
            "4  Student 4   14       São paulo\n",
            "------------------------------------------\n",
            "\n",
            "Title\n",
            "        name  age        location\n",
            "0   Huguinho   28          Santos\n",
            "1  Student 1   18       São Paulo\n",
            "2  Student 2   32  Rio De Janeiro\n",
            "3  Student 3   17       São Paulo\n",
            "4  Student 4   14       São Paulo\n",
            "------------------------------------------\n"
          ],
          "name": "stdout"
        }
      ]
    },
    {
      "cell_type": "code",
      "metadata": {
        "colab": {
          "base_uri": "https://localhost:8080/"
        },
        "id": "tnTDm5d5-osZ",
        "outputId": "bc47a0a7-c4dd-4c75-bc53-53cade948ad6"
      },
      "source": [
        "def renameDataframe():\n",
        "\n",
        "  map = {\n",
        "      \"name\" : [\"Huguinho\", \"Student 1\", \"Student 2\", \"Student 3\", \"Student 4\"],\n",
        "      \"age\" : [ 28, 18, 32, 17, 14 ],\n",
        "      \"location\" : [\"Santos\", \"São Paulo\", \"Rio de Janeiro\", \"São Paulo\", \"São Paulo\"]\n",
        "  }\n",
        "\n",
        "  df = pd.DataFrame( map );\n",
        "\n",
        "  # renomeando\n",
        "  df = df.rename(columns={\"age\": \"idade\", \"location\": \"localizacao\"})\n",
        "\n",
        "  print ( df );\n",
        "  print(\"----------------------\");\n",
        "\n",
        "renameDataframe()"
      ],
      "execution_count": 7,
      "outputs": [
        {
          "output_type": "stream",
          "text": [
            "        name  idade     localizacao\n",
            "0   Huguinho     28          Santos\n",
            "1  Student 1     18       São Paulo\n",
            "2  Student 2     32  Rio de Janeiro\n",
            "3  Student 3     17       São Paulo\n",
            "4  Student 4     14       São Paulo\n",
            "----------------------\n"
          ],
          "name": "stdout"
        }
      ]
    },
    {
      "cell_type": "code",
      "metadata": {
        "colab": {
          "base_uri": "https://localhost:8080/"
        },
        "id": "92xqQZZk-sWA",
        "outputId": "b9b58701-dd7a-4e1d-a6fd-d7c31fb771c3"
      },
      "source": [
        "#Transformando DataFrame em Json\n",
        "def jsonDataframe():\n",
        "\n",
        "  map = {\n",
        "      \"name\" : [\"Huguinho\", \"Student 1\", \"Student 2\", \"Student 3\", \"Student 4\"],\n",
        "      \"age\" : [ 28, 18, 32, 17, 14 ]\n",
        "  }\n",
        "\n",
        "  df = pd.DataFrame( map );\n",
        "\n",
        "  # json\n",
        "  json = df.to_json(orient=\"records\")\n",
        "\n",
        "  print ( df );\n",
        "  print(\"----------------------\");\n",
        "  print( json )\n",
        "\n",
        "jsonDataframe()"
      ],
      "execution_count": 8,
      "outputs": [
        {
          "output_type": "stream",
          "text": [
            "        name  age\n",
            "0   Huguinho   28\n",
            "1  Student 1   18\n",
            "2  Student 2   32\n",
            "3  Student 3   17\n",
            "4  Student 4   14\n",
            "----------------------\n",
            "[{\"name\":\"Huguinho\",\"age\":28},{\"name\":\"Student 1\",\"age\":18},{\"name\":\"Student 2\",\"age\":32},{\"name\":\"Student 3\",\"age\":17},{\"name\":\"Student 4\",\"age\":14}]\n"
          ],
          "name": "stdout"
        }
      ]
    },
    {
      "cell_type": "code",
      "metadata": {
        "colab": {
          "base_uri": "https://localhost:8080/"
        },
        "id": "HFYDdleB-uNg",
        "outputId": "4f68ca1c-580c-4ef8-ea5a-3db9ff65fc92"
      },
      "source": [
        "def readCsv():\n",
        "  url = \"https://raw.githubusercontent.com/huguinho-alves/python_aceleracao_everys/main/arquivo.csv\"\n",
        "  df = pd.read_csv( url )\n",
        "\n",
        "  print( df )\n",
        "\n",
        "readCsv()"
      ],
      "execution_count": 9,
      "outputs": [
        {
          "output_type": "stream",
          "text": [
            "       name                title\n",
            "0  Huguinho  Expert IT Architect\n",
            "1  Student1              student\n",
            "2  Student2              student\n"
          ],
          "name": "stdout"
        }
      ]
    }
  ]
}